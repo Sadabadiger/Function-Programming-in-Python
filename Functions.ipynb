{
 "cells": [
  {
   "cell_type": "markdown",
   "metadata": {},
   "source": [
    "# Functions \n",
    "- Function is similar to a program that consists of a group of statements that are inteded to perform a specific task.\n",
    "- There are two types of function \n",
    "    * **Built-in Functions**\n",
    "    * **User defined functions** \n",
    "- Built-in functions are readymade functions available in python and there is no need to write any program . just we need to call the the built-in functions wherever it is necessary. for example to display output python has **print()** functions\n",
    "- Similer to these functions a programmer can also create his own functions which are called 'user-defined'"
   ]
  },
  {
   "cell_type": "markdown",
   "metadata": {},
   "source": [
    "# Defining a Function\n",
    "- We can define a function using the keyword **def** followed by function name. after the function name we have to write parenthesis () which may contains parameter. consisder the syntax of function as shown in figure\n",
    "\n",
    "       def functionname(para1, para2,....):\n",
    "                  \"\"\"Function docstring\"\"\"\n",
    "                    function statements"
   ]
  },
  {
   "cell_type": "code",
   "execution_count": 2,
   "metadata": {},
   "outputs": [
    {
     "name": "stdout",
     "output_type": "stream",
     "text": [
      "sum=  25\n",
      "sum=  34.4\n"
     ]
    }
   ],
   "source": [
    "# A function that accepts two values and finds their sum\n",
    "def sum(a,b):\n",
    "    \"\"\" This function finds sum of two numbers\"\"\"\n",
    "    c=a+b\n",
    "    print(\"sum= \",c)\n",
    "    \n",
    "    \n",
    "#Call the function\n",
    "sum(10,15)\n",
    "\n",
    "sum(10.6,23.8)"
   ]
  },
  {
   "cell_type": "code",
   "execution_count": 3,
   "metadata": {},
   "outputs": [
    {
     "name": "stdout",
     "output_type": "stream",
     "text": [
      "The sum of two number is:  30\n",
      "The difference of two number is:  20\n",
      "The multiplication of two number is:  125\n",
      "The division of two number is:  5.0\n"
     ]
    }
   ],
   "source": [
    "def calculator(a,b):\n",
    "    \"\"\"This function program is for calculator\"\"\"\n",
    "    c=a+b\n",
    "    print(\"The sum of two number is: \",c)\n",
    "    d=a-b\n",
    "    print(\"The difference of two number is: \",d)\n",
    "    e=a*b\n",
    "    print(\"The multiplication of two number is: \",e)\n",
    "    f=a/b\n",
    "    print(\"The division of two number is: \",f)\n",
    "\n",
    "calculator(25,5)"
   ]
  },
  {
   "cell_type": "code",
   "execution_count": 5,
   "metadata": {},
   "outputs": [
    {
     "name": "stdout",
     "output_type": "stream",
     "text": [
      "Factorial of 1 is 1\n",
      "Factorial of 2 is 2\n",
      "Factorial of 3 is 6\n",
      "Factorial of 4 is 24\n",
      "Factorial of 5 is 120\n",
      "Factorial of 6 is 720\n",
      "Factorial of 7 is 5040\n",
      "Factorial of 8 is 40320\n",
      "Factorial of 9 is 362880\n",
      "Factorial of 10 is 3628800\n"
     ]
    }
   ],
   "source": [
    "# A Python program to calculate factorail values of numbers\n",
    "def fact(n):\n",
    "    \"\"\"This function find factorail of the value\"\"\"\n",
    "    fact=1\n",
    "    i=1\n",
    "    while i<=n:\n",
    "        fact=fact*i\n",
    "        i=i+1\n",
    "    return fact\n",
    "    \n",
    "# Call the function\n",
    "#fact(5)\n",
    "for i in range(1,11):\n",
    "    print(\"Factorial of {} is {}\".format(i,fact(i)))"
   ]
  },
  {
   "cell_type": "code",
   "execution_count": 7,
   "metadata": {},
   "outputs": [
    {
     "name": "stdout",
     "output_type": "stream",
     "text": [
      "Enter number: 9\n",
      "The number is not prime\n"
     ]
    }
   ],
   "source": [
    "# A Python function to check if a given number is prime or not\n",
    "def is_prime(num):\n",
    "    \"\"\"Check if num is prime or not\"\"\"\n",
    "    x=1 #This will be zero if number is not prime\n",
    "    for i in range(2,num):# devide num from 2 to num-1\n",
    "        if num%i==0: # if devisible by any number\n",
    "            x=0\n",
    "            break\n",
    "        else:\n",
    "            x=1\n",
    "    return x\n",
    "\n",
    "\n",
    "# Test if a number is prime or not\n",
    "num=int(input(\"Enter number: \"))\n",
    "result=is_prime(num)\n",
    "if result==1:\n",
    "    print(\"The number is prime\")\n",
    "else:\n",
    "    print(\"The number is not prime\")"
   ]
  },
  {
   "cell_type": "markdown",
   "metadata": {},
   "source": [
    "# Returning multiple value from a function\n",
    "- A function returns a single value in the programming language like C or Java.\n",
    "- In python, a function can return multiple values"
   ]
  },
  {
   "cell_type": "code",
   "execution_count": 8,
   "metadata": {},
   "outputs": [
    {
     "name": "stdout",
     "output_type": "stream",
     "text": [
      "The sum of a and b is 10 and subtraction is 4\n"
     ]
    }
   ],
   "source": [
    "# A Python program to understand how function return two values\n",
    "def sum(a,b):\n",
    "    \"\"\"This function returns results of addition and subtraction of a,b\"\"\"\n",
    "    c=a+b\n",
    "    d=a-b\n",
    "    return c,d\n",
    "\n",
    "# Call the function \n",
    "x,y=sum(7,3)\n",
    "print(\"The sum of a and b is {} and subtraction is {}\".format(x,y))"
   ]
  },
  {
   "cell_type": "markdown",
   "metadata": {},
   "source": [
    "# Pass by object reference\n",
    "- In the language like C and Java, when we pass values to a function, we think about two ways\n",
    "    1. **Pass by value or call by value**\n",
    "    2. **Pass by reference or call by reference**\n",
    "- In programming language, a variable with **'x'** is created and some memory is allocated to the variable.Then some value is going to store in that variable \n",
    "-This is not the case in python. In python everything is object. An object is imagined as memory block where we can store some value."
   ]
  },
  {
   "cell_type": "code",
   "execution_count": 9,
   "metadata": {},
   "outputs": [
    {
     "name": "stdout",
     "output_type": "stream",
     "text": [
      "Enter the value of x: 9\n",
      "The value of x inside the function:  15\n",
      "The value of x outside the function:  9\n"
     ]
    }
   ],
   "source": [
    "# A Python program to pass an integer to a function and modift it\n",
    "def modify(x):\n",
    "    \"\"\"Reassign a value to variable\"\"\"\n",
    "    x=15\n",
    "    print(\"The value of x inside the function: \",x)\n",
    "\n",
    "#Call the function\n",
    "x=int(input(\"Enter the value of x: \"))\n",
    "modify(x)\n",
    "print(\"The value of x outside the function: \",x)"
   ]
  },
  {
   "cell_type": "code",
   "execution_count": 5,
   "metadata": {},
   "outputs": [
    {
     "name": "stdout",
     "output_type": "stream",
     "text": [
      "[1, 2, 3, 4, 5, 9] 86927048\n",
      "[1, 2, 3, 4, 5, 9] 86927048\n"
     ]
    }
   ],
   "source": [
    "# A Python program to pass a list to a function and modify it\n",
    "def modify(lst):\n",
    "    \"\"\"Appending value to the list\"\"\"\n",
    "    lst.append(9)\n",
    "    print(lst,id(lst))\n",
    "\n",
    "#Call the function\n",
    "lst=[1,2,3,4,5]\n",
    "modify(lst)\n",
    "print(lst,id(lst))"
   ]
  },
  {
   "cell_type": "markdown",
   "metadata": {},
   "source": [
    "- In python values are passed to function by object reference\n",
    "- If the object is immutable, the modified values is not available outside the function\n",
    "- If the object is mutable then the modified value is avialable outside the function"
   ]
  },
  {
   "cell_type": "code",
   "execution_count": 1,
   "metadata": {},
   "outputs": [
    {
     "name": "stdout",
     "output_type": "stream",
     "text": [
      "[6, 7, 8, 9, 10] 84601736\n",
      "[1, 2, 3, 4, 5] 84410248\n"
     ]
    }
   ],
   "source": [
    "# A Python program to create a new object inside the function doesnot modify outside objects\n",
    "def modify(lst):\n",
    "    \"\"\"To create list\"\"\"\n",
    "    lst=[6,7,8,9,10]\n",
    "    print(lst,id(lst))\n",
    "\n",
    "#Call the function\n",
    "lst=[1,2,3,4,5]\n",
    "modify(lst)\n",
    "print(lst,id(lst))"
   ]
  },
  {
   "cell_type": "markdown",
   "metadata": {},
   "source": [
    "- A caution is needed here. if we create altogether a new object inside the function, then it will not be available outside the function. To understand this, we have rewriten the program  where we are passing the list to the modify() function"
   ]
  },
  {
   "cell_type": "markdown",
   "metadata": {},
   "source": [
    "# Formal and Actual Arguments\n",
    "- When a function is defined, it may have some parameters. \n",
    "- These parameters are useful to receive value from outside of the function. They are called 'Formal Arguments'\n",
    "- When we call the function we should pass data or values to the function. These value are called 'Actual Arguments'\n",
    "\n",
    "The actual arguments used in a function call are of 4 types\n",
    "1. Positional Arguments\n",
    "2. Keyword Arguments\n",
    "3. Default Arguments\n",
    "4. Variable length arguments\n"
   ]
  },
  {
   "cell_type": "code",
   "execution_count": 4,
   "metadata": {},
   "outputs": [
    {
     "name": "stdout",
     "output_type": "stream",
     "text": [
      "Total string:  NewYark\n"
     ]
    }
   ],
   "source": [
    "# A Python program to understand the position arguments of a function\n",
    "def attach(s1,s2):\n",
    "    '''tO JOIN S1 AND S2 AND DISPLAY THE STRING'''\n",
    "    s3=s1+s2\n",
    "    print(\"Total string: \",s3)\n",
    "# Call attach() and pass two strings\n",
    "attach('New','Yark')"
   ]
  },
  {
   "cell_type": "code",
   "execution_count": 1,
   "metadata": {},
   "outputs": [
    {
     "name": "stdout",
     "output_type": "stream",
     "text": [
      "Item= Sugar\n",
      "Price=72.00\n"
     ]
    }
   ],
   "source": [
    "# A Python program to understand the keyword arguments of a function\n",
    "def grocery(item,price):\n",
    "    '''To display the given arguments'''\n",
    "    print('Item= %s'% item)\n",
    "    print('Price=%.2f'% price)\n",
    "    \n",
    "#Call the grocery() and pass 2 arguments\n",
    "grocery(item='Sugar', price=72)"
   ]
  },
  {
   "cell_type": "code",
   "execution_count": 1,
   "metadata": {},
   "outputs": [
    {
     "name": "stdout",
     "output_type": "stream",
     "text": [
      "Item= Sugar\n",
      "Price=72.00\n",
      "Item= Sugar\n",
      "Price=40.00\n"
     ]
    }
   ],
   "source": [
    "# A Python program to understand the default arguments of a function\n",
    "def grocery(item,price=40.00):\n",
    "    '''To display the given arguments'''\n",
    "    print('Item= %s'% item)\n",
    "    print('Price=%.2f'% price)\n",
    "    \n",
    "#Call the grocery() and pass 2 arguments\n",
    "grocery(item='Sugar', price=72)\n",
    "grocery(item='Sugar')\n"
   ]
  },
  {
   "cell_type": "markdown",
   "metadata": {},
   "source": [
    "- Sometime, the programmer does not knows how many values a function may receive. In that case, the programmer cannot decide how many arguments to be given in the function definition \n",
    "- if programmer wants develop a function that can accept 'n' arguments, that is also posiible in python by using **Variable Length Arguments**"
   ]
  },
  {
   "cell_type": "code",
   "execution_count": 1,
   "metadata": {},
   "outputs": [
    {
     "name": "stdout",
     "output_type": "stream",
     "text": [
      "Formal arguments:  2\n",
      "sum of farg and *arg :  5\n",
      "Formal arguments:  5\n",
      "sum of farg and *arg :  65\n"
     ]
    }
   ],
   "source": [
    "# A Python program to show variable length argument and its use\n",
    "\n",
    "def add(farg,*args):# *args can take 0 or more values\n",
    "    '''To add given numbers'''\n",
    "    print(\"Formal arguments: \", farg)\n",
    "    sum=0\n",
    "    for i in args:\n",
    "        sum+=i\n",
    "    print(\"sum of farg and *arg : \",(farg+sum))\n",
    "\n",
    "    # Call add() function\n",
    "add(2,3)\n",
    "add(5,10,20,30)"
   ]
  },
  {
   "cell_type": "code",
   "execution_count": 4,
   "metadata": {},
   "outputs": [
    {
     "name": "stdout",
     "output_type": "stream",
     "text": [
      "The forma1 argument is:  10\n",
      "key=rno, value=5\n",
      "The forma1 argument is:  10\n",
      "key=rno, value=5\n",
      "key=name, value=sadashiv\n"
     ]
    }
   ],
   "source": [
    "# A Python program to understand keyword variable argument \n",
    "def display(farg,**kwargs):\n",
    "    \"To display  foraml and keyword variable\"\n",
    "    print(\"The forma1 argument is: \",farg)\n",
    "    \n",
    "    for x,y in kwargs.items():\n",
    "        print(\"key={}, value={}\".format(x,y))\n",
    "        \n",
    "# Call the function\n",
    "display(10, rno=5)\n",
    "display(10, rno=5, name='sadashiv')\n",
    "    "
   ]
  },
  {
   "cell_type": "markdown",
   "metadata": {},
   "source": [
    "# Local and Global Variable \n",
    "- When we declare a variable inside a function, it becomes local variable\n",
    "- when a variable is declared above a function, it becomes global variable"
   ]
  },
  {
   "cell_type": "code",
   "execution_count": 8,
   "metadata": {},
   "outputs": [
    {
     "name": "stdout",
     "output_type": "stream",
     "text": [
      "The value of local variable a:  2\n"
     ]
    }
   ],
   "source": [
    "# To understand about local variable \n",
    "def myfunction():\n",
    "    a=1 # Local variable\n",
    "    a+=1\n",
    "    print(\"The value of local variable a: \",a)\n",
    "    \n",
    "# Call the function\n",
    "myfunction()\n",
    "#print(\"a=\",a)"
   ]
  },
  {
   "cell_type": "code",
   "execution_count": 10,
   "metadata": {},
   "outputs": [
    {
     "name": "stdout",
     "output_type": "stream",
     "text": [
      "the local variable:  2\n",
      "The global variable:  1\n"
     ]
    }
   ],
   "source": [
    "# To understand about global variable\n",
    "a=1\n",
    "def myfunction():\n",
    "    a=2\n",
    "    print(\"the local variable: \",a)\n",
    "# Call the function\n",
    "myfunction()\n",
    "print(\"The global variable: \",a)"
   ]
  },
  {
   "cell_type": "code",
   "execution_count": 14,
   "metadata": {},
   "outputs": [
    {
     "name": "stdout",
     "output_type": "stream",
     "text": [
      "The modified global value is:  2\n",
      "the value of global variable:  2\n"
     ]
    }
   ],
   "source": [
    "# A Python program to access global variable inside a function and modify it using global keyword\n",
    "a=1\n",
    "def myfunction():\n",
    "    global a\n",
    "    a=a+1\n",
    "    print(\"The modified global value is: \",a)\n",
    "\n",
    "#call the function\n",
    "myfunction()\n",
    "print(\"the value of global variable: \",a)"
   ]
  },
  {
   "cell_type": "markdown",
   "metadata": {},
   "source": [
    "- When the global variable name and local variable name are same, the programmer face difficulty to differenetiate between then inside a function\n",
    "- For example there is a global variable 'a' with some value declared above the function. The programmer is writing a local varaible with same name 'a' with some other value inside the function\n",
    "- To solve this problem, there is function global()"
   ]
  },
  {
   "cell_type": "code",
   "execution_count": 17,
   "metadata": {},
   "outputs": [
    {
     "name": "stdout",
     "output_type": "stream",
     "text": [
      "The local variable is :  1\n",
      "The global variable is:  2\n"
     ]
    }
   ],
   "source": [
    "# A python program to get a copy of global variable into a function and work\n",
    "a=2\n",
    "def myfunction():\n",
    "    a=1\n",
    "    x=globals()['a']\n",
    "    print(\"The local variable is : \",a)\n",
    "    print(\"The global variable is: \",x)\n",
    "# Call the function\n",
    "myfunction()"
   ]
  },
  {
   "cell_type": "markdown",
   "metadata": {},
   "source": [
    "# Passing group of elements to a function\n",
    "- To pass a group of elements like numbers or strings, we can accept them inot list and then pass the list to the function where the required processing can be done"
   ]
  },
  {
   "cell_type": "code",
   "execution_count": 24,
   "metadata": {},
   "outputs": [
    {
     "name": "stdout",
     "output_type": "stream",
     "text": [
      "1 2\n",
      "Sum=3 and Average=1.5\n"
     ]
    }
   ],
   "source": [
    "# A function to accept a group of numbers and find their total average\n",
    "\n",
    "def Average(lst):\n",
    "    num=len(lst)\n",
    "    sum=0\n",
    "    for i in lst:\n",
    "        sum=sum+i\n",
    "        avg=sum/num\n",
    "    return sum, avg\n",
    "#Call function\n",
    "lst=[int(x) for x in input().split()]\n",
    "x,y=Average(lst)\n",
    "print(\"Sum={} and Average={}\".format(x,y))"
   ]
  },
  {
   "cell_type": "code",
   "execution_count": 31,
   "metadata": {},
   "outputs": [
    {
     "name": "stdout",
     "output_type": "stream",
     "text": [
      "sada\n",
      "Name in the list:  sada\n"
     ]
    }
   ],
   "source": [
    "# A Function to display a group of strings\n",
    "\n",
    "def disply(lst):\n",
    "    \"display strings\"\n",
    "    for i in lst:\n",
    "        print(\"Name in the list: \",i)\n",
    "# Call the function\n",
    "lst=[x for x in input().split()]\n",
    "disply(lst)"
   ]
  },
  {
   "cell_type": "markdown",
   "metadata": {},
   "source": [
    "# Recursive function\n",
    "- A function that calls itself is known as recursive function\n",
    "- for example we can write the factorial of 3 as <br>\n",
    "    factorial(3)= 3* factorial(2) <br>\n",
    "    factorail(2)= 2* factorial(1) <br>\n",
    "    factorail(1)= 1* factorial(0) <br>\n",
    "- factorail(0) value is 1, all the preceding statements will evaluate and give result as\n",
    "     factorial(3)=3* factorial(2)\n",
    "                 =3*2* Factorail(1)\n",
    "                 =3*2*1* factorail(0)\n",
    "                 =3*2*1*1"
   ]
  },
  {
   "cell_type": "code",
   "execution_count": 36,
   "metadata": {},
   "outputs": [
    {
     "name": "stdout",
     "output_type": "stream",
     "text": [
      "factorail of 1 is 1 \n",
      "factorail of 2 is 2 \n",
      "factorail of 3 is 6 \n",
      "factorail of 4 is 24 \n",
      "factorail of 5 is 120 \n",
      "factorail of 6 is 720 \n",
      "factorail of 7 is 5040 \n",
      "factorail of 8 is 40320 \n",
      "factorail of 9 is 362880 \n",
      "factorail of 10 is 3628800 \n"
     ]
    }
   ],
   "source": [
    "# Recursive function to calculate factorail\n",
    "def fact(n):\n",
    "    \"\"\"to find factorail of n\"\"\"\n",
    "    if n==0:\n",
    "        result=1\n",
    "    else:\n",
    "        result=n*fact(n-1)\n",
    "    return result\n",
    "# Call the function\n",
    "for i in range(1,11):\n",
    "    print(\"factorail of {} is {} \".format(i,fact(i)))"
   ]
  }
 ],
 "metadata": {
  "kernelspec": {
   "display_name": "Python 3",
   "language": "python",
   "name": "python3"
  },
  "language_info": {
   "codemirror_mode": {
    "name": "ipython",
    "version": 3
   },
   "file_extension": ".py",
   "mimetype": "text/x-python",
   "name": "python",
   "nbconvert_exporter": "python",
   "pygments_lexer": "ipython3",
   "version": "3.7.6"
  }
 },
 "nbformat": 4,
 "nbformat_minor": 4
}
